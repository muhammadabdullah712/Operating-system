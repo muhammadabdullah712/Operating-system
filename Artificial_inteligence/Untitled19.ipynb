{
 "cells": [
  {
   "cell_type": "code",
   "execution_count": 3,
   "id": "1b51df29-ace7-429b-9a81-4b89e3096318",
   "metadata": {},
   "outputs": [
    {
     "name": "stdout",
     "output_type": "stream",
     "text": [
      "Initial population:  ['01010111', '11011011', '10010111', '01011010', '11110101', '00111011', '01100001', '11010010']\n"
     ]
    }
   ],
   "source": [
    "import random\n",
    "def create_population(size):\n",
    "    population = []\n",
    "    for _ in range(size):\n",
    "        chromosome = ''.join(random.choices('10',k=8))\n",
    "        population.append(chromosome)\n",
    "    return population\n",
    "population_size = 8\n",
    "population = create_population(population_size)\n",
    "print(\"Initial population: \",population)"
   ]
  },
  {
   "cell_type": "code",
   "execution_count": null,
   "id": "ee951188-807e-421b-ae9c-7c8b5047961c",
   "metadata": {},
   "outputs": [],
   "source": []
  }
 ],
 "metadata": {
  "kernelspec": {
   "display_name": "Python 3 (ipykernel)",
   "language": "python",
   "name": "python3"
  },
  "language_info": {
   "codemirror_mode": {
    "name": "ipython",
    "version": 3
   },
   "file_extension": ".py",
   "mimetype": "text/x-python",
   "name": "python",
   "nbconvert_exporter": "python",
   "pygments_lexer": "ipython3",
   "version": "3.11.7"
  }
 },
 "nbformat": 4,
 "nbformat_minor": 5
}
