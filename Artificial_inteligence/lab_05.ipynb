{
 "cells": [
  {
   "cell_type": "code",
   "execution_count": 1,
   "id": "17f262b8-5b0f-40db-a0fa-68504e3fc902",
   "metadata": {},
   "outputs": [],
   "source": [
    "import random\n",
    "\n",
    "#initial state of the Tic-Tac-Toe game\n",
    "def initial_state():\n",
    "    return [[' ' for _ in range(3)] for _ in range(3)]\n",
    "\n",
    "#players \n",
    "def player(board):\n",
    "    x_count = sum(row.count('X') for row in board)\n",
    "    o_count = sum(row.count('O') for row in board)\n",
    "    return 'X' if x_count == o_count else 'O'\n",
    "\n",
    "def actions(board):\n",
    "    return [(i, j) for i in range(3) for j in range(3) if board[i][j] == ' ']\n",
    "\n",
    "def result(board, action):\n",
    "    new_board = [row[:] for row in board]\n",
    "    new_board[action[0]][action[1]] = player(board)\n",
    "    return new_board\n",
    "\n",
    "\n",
    "def terminal_test(board):\n",
    "    return winner(board) is not None or all(board[i][j] != ' ' for i in range(3) for j in range(3))\n",
    "\n",
    "def utility(board):\n",
    "    win = winner(board)\n",
    "    if win == 'X':\n",
    "        return 1\n",
    "    elif win == 'O':\n",
    "        return -1\n",
    "    else:\n",
    "        return 0\n",
    "\n",
    "def winner(board):\n",
    "    for player in ['X', 'O']:\n",
    "        for i in range(3):\n",
    "            if all([board[i][j] == player for j in range(3)]) or all([board[j][i] == player for j in range(3)]):\n",
    "                return player\n",
    "        if all([board[i][i] == player for i in range(3)]) or all([board[i][2-i] == player for i in range(3)]):\n",
    "            return player\n",
    "    return None\n",
    "\n",
    "\n",
    "def minimax(board):\n",
    "    def max_value(board):\n",
    "        if terminal_test(board):\n",
    "            return utility(board)\n",
    "        v = float('-inf')\n",
    "        for action in actions(board):\n",
    "            v = max(v, min_value(result(board, action)))\n",
    "        return v\n",
    "\n",
    "    def min_value(board):\n",
    "        if terminal_test(board):\n",
    "            return utility(board)\n",
    "        v = float('inf')\n",
    "        for action in actions(board):\n",
    "            v = min(v, max_value(result(board, action)))\n",
    "        return v\n",
    "\n",
    "    current_player = player(board)\n",
    "    if current_player == 'X':\n",
    "        best_score = float('-inf')\n",
    "        best_action = None\n",
    "        for action in actions(board):\n",
    "            score = min_value(result(board, action))\n",
    "            if score > best_score:\n",
    "                best_score = score\n",
    "                best_action = action\n",
    "    else:\n",
    "        best_score = float('inf')\n",
    "        best_action = None\n",
    "        for action in actions(board):\n",
    "            score = max_value(result(board, action))\n",
    "            if score < best_score:\n",
    "                best_score = score\n",
    "                best_action = action\n",
    "\n",
    "    return best_action\n"
   ]
  },
  {
   "cell_type": "code",
   "execution_count": 2,
   "id": "0d278631-c435-4739-be5d-b84a14234177",
   "metadata": {},
   "outputs": [],
   "source": [
    "def minimax_with_lookahead(board, depth=3):\n",
    "    def max_value(board, depth):\n",
    "        if terminal_test(board) or depth == 0:\n",
    "            return utility(board)\n",
    "        v = float('-inf')\n",
    "        for action in actions(board):\n",
    "            v = max(v, min_value(result(board, action), depth-1))\n",
    "        return v\n",
    "\n",
    "    def min_value(board, depth):\n",
    "        if terminal_test(board) or depth == 0:\n",
    "            return utility(board)\n",
    "        v = float('inf')\n",
    "        for action in actions(board):\n",
    "            v = min(v, max_value(result(board, action), depth-1))\n",
    "        return v\n",
    "\n",
    "    current_player = player(board)\n",
    "    if current_player == 'X':\n",
    "        best_score = float('-inf')\n",
    "        best_action = None\n",
    "        for action in actions(board):\n",
    "            score = min_value(result(board, action), depth-1)\n",
    "            if score > best_score:\n",
    "                best_score = score\n",
    "                best_action = action\n",
    "    else:\n",
    "        best_score = float('inf')\n",
    "        best_action = None\n",
    "        for action in actions(board):\n",
    "            score = max_value(result(board, action), depth-1)\n",
    "            if score < best_score:\n",
    "                best_score = score\n",
    "                best_action = action\n",
    "\n",
    "    return best_action\n"
   ]
  },
  {
   "cell_type": "code",
   "execution_count": 3,
   "id": "81010185-cdea-404d-8236-a468cbd18f93",
   "metadata": {},
   "outputs": [],
   "source": [
    "def heuristic(board):\n",
    "    win = winner(board)\n",
    "    if win == 'X':\n",
    "        return 10\n",
    "    elif win == 'O':\n",
    "        return -10\n",
    "    score = 0\n",
    "    for row in board:\n",
    "        if row.count('X') == 2 and row.count(' ') == 1:\n",
    "            score += 5\n",
    "        if row.count('O') == 2 and row.count(' ') == 1:\n",
    "            score -= 5\n",
    "    for col in range(3):\n",
    "        column = [board[row][col] for row in range(3)]\n",
    "        if column.count('X') == 2 and column.count(' ') == 1:\n",
    "            score += 5\n",
    "        if column.count('O') == 2 and column.count(' ') == 1:\n",
    "            score -= 5\n",
    "    diagonal1 = [board[i][i] for i in range(3)]\n",
    "    diagonal2 = [board[i][2-i] for i in range(3)]\n",
    "    if diagonal1.count('X') == 2 and diagonal1.count(' ') == 1:\n",
    "        score += 5\n",
    "    if diagonal1.count('O') == 2 and diagonal1.count(' ') == 1:\n",
    "        score -= 5\n",
    "    if diagonal2.count('X') == 2 and diagonal2.count(' ') == 1:\n",
    "        score += 5\n",
    "    if diagonal2.count('O') == 2 and diagonal2.count(' ') == 1:\n",
    "        score -= 5\n",
    "    return score\n",
    "\n",
    "def minimax_with_heuristic(board, depth=3):\n",
    "    def max_value(board, depth):\n",
    "        if terminal_test(board) or depth == 0:\n",
    "            return heuristic(board)\n",
    "        v = float('-inf')\n",
    "        for action in actions(board):\n",
    "            v = max(v, min_value(result(board, action), depth-1))\n",
    "        return v\n",
    "\n",
    "    def min_value(board, depth):\n",
    "        if terminal_test(board) or depth == 0:\n",
    "            return heuristic(board)\n",
    "        v = float('inf')\n",
    "        for action in actions(board):\n",
    "            v = min(v, max_value(result(board, action), depth-1))\n",
    "        return v\n",
    "\n",
    "    current_player = player(board)\n",
    "    if current_player == 'X':\n",
    "        best_score = float('-inf')\n",
    "        best_action = None\n",
    "        for action in actions(board):\n",
    "            score = min_value(result(board, action), depth-1)\n",
    "            if score > best_score:\n",
    "                best_score = score\n",
    "                best_action = action\n",
    "    else:\n",
    "        best_score = float('inf')\n",
    "        best_action = None\n",
    "        for action in actions(board):\n",
    "            score = max_value(result(board, action), depth-1)\n",
    "            if score < best_score:\n",
    "                best_score = score\n",
    "                best_action = action\n",
    "\n",
    "    return best_action\n"
   ]
  },
  {
   "cell_type": "code",
   "execution_count": null,
   "id": "6e75b93c-e849-4621-b4f8-3ebdb560b820",
   "metadata": {},
   "outputs": [
    {
     "name": "stdout",
     "output_type": "stream",
     "text": [
      "  |   |  \n",
      "-----\n",
      "  |   |  \n",
      "-----\n",
      "  |   |  \n",
      "-----\n",
      "Human's turn (X)\n"
     ]
    },
    {
     "name": "stdin",
     "output_type": "stream",
     "text": [
      "Enter the row:  2\n",
      "Enter the column:  2\n"
     ]
    },
    {
     "name": "stdout",
     "output_type": "stream",
     "text": [
      "  |   |  \n",
      "-----\n",
      "  |   |  \n",
      "-----\n",
      "  |   | X\n",
      "-----\n",
      "Computer's turn (O)\n",
      "  |   |  \n",
      "-----\n",
      "  | O |  \n",
      "-----\n",
      "  |   | X\n",
      "-----\n",
      "Human's turn (X)\n"
     ]
    },
    {
     "name": "stdin",
     "output_type": "stream",
     "text": [
      "Enter the row:  3\n",
      "Enter the column:  2\n"
     ]
    },
    {
     "name": "stdout",
     "output_type": "stream",
     "text": [
      "Invalid move. Try again.\n",
      "  |   |  \n",
      "-----\n",
      "  | O |  \n",
      "-----\n",
      "  |   | X\n",
      "-----\n",
      "Human's turn (X)\n"
     ]
    },
    {
     "name": "stdin",
     "output_type": "stream",
     "text": [
      "Enter the row:  1\n",
      "Enter the column:  2\n"
     ]
    },
    {
     "name": "stdout",
     "output_type": "stream",
     "text": [
      "  |   |  \n",
      "-----\n",
      "  | O | X\n",
      "-----\n",
      "  |   | X\n",
      "-----\n",
      "Computer's turn (O)\n",
      "  |   | O\n",
      "-----\n",
      "  | O | X\n",
      "-----\n",
      "  |   | X\n",
      "-----\n",
      "Human's turn (X)\n"
     ]
    },
    {
     "name": "stdin",
     "output_type": "stream",
     "text": [
      "Enter the row:  3\n",
      "Enter the column:  0\n"
     ]
    },
    {
     "name": "stdout",
     "output_type": "stream",
     "text": [
      "Invalid move. Try again.\n",
      "  |   | O\n",
      "-----\n",
      "  | O | X\n",
      "-----\n",
      "  |   | X\n",
      "-----\n",
      "Human's turn (X)\n"
     ]
    },
    {
     "name": "stdin",
     "output_type": "stream",
     "text": [
      "Enter the row:  1\n",
      "Enter the column:  1\n"
     ]
    },
    {
     "name": "stdout",
     "output_type": "stream",
     "text": [
      "Invalid move. Try again.\n",
      "  |   | O\n",
      "-----\n",
      "  | O | X\n",
      "-----\n",
      "  |   | X\n",
      "-----\n",
      "Human's turn (X)\n"
     ]
    },
    {
     "name": "stdin",
     "output_type": "stream",
     "text": [
      "Enter the row:  3\n",
      "Enter the column:  1\n"
     ]
    },
    {
     "name": "stdout",
     "output_type": "stream",
     "text": [
      "Invalid move. Try again.\n",
      "  |   | O\n",
      "-----\n",
      "  | O | X\n",
      "-----\n",
      "  |   | X\n",
      "-----\n",
      "Human's turn (X)\n"
     ]
    },
    {
     "name": "stdin",
     "output_type": "stream",
     "text": [
      "Enter the row:  2\n",
      "Enter the column:  3\n"
     ]
    },
    {
     "name": "stdout",
     "output_type": "stream",
     "text": [
      "Invalid move. Try again.\n",
      "  |   | O\n",
      "-----\n",
      "  | O | X\n",
      "-----\n",
      "  |   | X\n",
      "-----\n",
      "Human's turn (X)\n"
     ]
    },
    {
     "name": "stdin",
     "output_type": "stream",
     "text": [
      "Enter the row:  4\n",
      "Enter the column:  2\n"
     ]
    },
    {
     "name": "stdout",
     "output_type": "stream",
     "text": [
      "Invalid move. Try again.\n",
      "  |   | O\n",
      "-----\n",
      "  | O | X\n",
      "-----\n",
      "  |   | X\n",
      "-----\n",
      "Human's turn (X)\n"
     ]
    },
    {
     "name": "stdin",
     "output_type": "stream",
     "text": [
      "Enter the row:  1\n",
      "Enter the column:  2\n"
     ]
    },
    {
     "name": "stdout",
     "output_type": "stream",
     "text": [
      "Invalid move. Try again.\n",
      "  |   | O\n",
      "-----\n",
      "  | O | X\n",
      "-----\n",
      "  |   | X\n",
      "-----\n",
      "Human's turn (X)\n"
     ]
    },
    {
     "name": "stdin",
     "output_type": "stream",
     "text": [
      "Enter the row:  3\n",
      "Enter the column:  2\n"
     ]
    },
    {
     "name": "stdout",
     "output_type": "stream",
     "text": [
      "Invalid move. Try again.\n",
      "  |   | O\n",
      "-----\n",
      "  | O | X\n",
      "-----\n",
      "  |   | X\n",
      "-----\n",
      "Human's turn (X)\n"
     ]
    },
    {
     "name": "stdin",
     "output_type": "stream",
     "text": [
      "Enter the row:  1\n",
      "Enter the column:  2\n"
     ]
    },
    {
     "name": "stdout",
     "output_type": "stream",
     "text": [
      "Invalid move. Try again.\n",
      "  |   | O\n",
      "-----\n",
      "  | O | X\n",
      "-----\n",
      "  |   | X\n",
      "-----\n",
      "Human's turn (X)\n"
     ]
    }
   ],
   "source": [
    "def print_board(board):\n",
    "    for row in board:\n",
    "        print(' | '.join(row))\n",
    "        print('-' * 5)\n",
    "\n",
    "def play_game():\n",
    "    board = initial_state()\n",
    "    while not terminal_test(board):\n",
    "        print_board(board)\n",
    "        if player(board) == 'X':\n",
    "            print(\"Human's turn (X)\")\n",
    "            row = int(input(\"Enter the row: \"))\n",
    "            col = int(input(\"Enter the column: \"))\n",
    "            if (row, col) in actions(board):\n",
    "                board = result(board, (row, col))\n",
    "            else:\n",
    "                print(\"Invalid move. Try again.\")\n",
    "        else:\n",
    "            print(\"Computer's turn (O)\")\n",
    "            move = minimax_with_heuristic(board)\n",
    "            board = result(board, move)\n",
    "    \n",
    "    print_board(board)\n",
    "    if winner(board) is not None:\n",
    "        print(f\"{winner(board)} wins!\")\n",
    "    else:\n",
    "        print(\"It's a draw!\")\n",
    "\n",
    "play_game()\n"
   ]
  }
 ],
 "metadata": {
  "kernelspec": {
   "display_name": "Python 3 (ipykernel)",
   "language": "python",
   "name": "python3"
  },
  "language_info": {
   "codemirror_mode": {
    "name": "ipython",
    "version": 3
   },
   "file_extension": ".py",
   "mimetype": "text/x-python",
   "name": "python",
   "nbconvert_exporter": "python",
   "pygments_lexer": "ipython3",
   "version": "3.11.7"
  }
 },
 "nbformat": 4,
 "nbformat_minor": 5
}
