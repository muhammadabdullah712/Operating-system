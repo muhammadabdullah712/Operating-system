{
 "cells": [
  {
   "cell_type": "code",
   "execution_count": 1,
   "id": "eade0888-b228-4f57-a0d9-f485d258c66d",
   "metadata": {},
   "outputs": [
    {
     "name": "stdout",
     "output_type": "stream",
     "text": [
      "Initial Population:\n",
      "Chromosome: [1, 0, 0, 1, 0] Decoded: 18 Fitness: 21.6\n",
      "Chromosome: [0, 1, 1, 1, 1] Decoded: 15 Fitness: 22.5\n",
      "Chromosome: [1, 0, 1, 0, 1] Decoded: 21 Fitness: 18.9\n",
      "Chromosome: [0, 1, 0, 1, 1] Decoded: 11 Fitness: 20.9\n",
      "Chromosome: [0, 0, 0, 1, 1] Decoded: 3 Fitness: 8.1\n",
      "Chromosome: [0, 0, 0, 1, 0] Decoded: 2 Fitness: 5.6\n",
      "Chromosome: [1, 0, 0, 0, 1] Decoded: 17 Fitness: 22.1\n",
      "Chromosome: [1, 0, 0, 0, 0] Decoded: 16 Fitness: 22.4\n",
      "Chromosome: [1, 1, 0, 1, 1] Decoded: 27 Fitness: 8.099999999999994\n",
      "Chromosome: [1, 1, 0, 0, 1] Decoded: 25 Fitness: 12.5\n"
     ]
    }
   ],
   "source": [
    "import random\n",
    "\n",
    "def generate_chromosome(length):\n",
    "    chromosome = []\n",
    "    for _ in range(length):\n",
    "        bit = random.randint(0, 1)\n",
    "        chromosome.append(bit)\n",
    "    return chromosome\n",
    "\n",
    "def decode_chromosome(chromosome):\n",
    "    x = 0\n",
    "    for i in range(len(chromosome)):\n",
    "        x += chromosome[i] * (2 ** (len(chromosome) - 1 - i))\n",
    "    return x\n",
    "\n",
    "def fitness_function(x):\n",
    "    return (-x**2 / 10) + 3 * x\n",
    "\n",
    "chromosome_length = 5\n",
    "population_size = 10\n",
    "population = [generate_chromosome(chromosome_length) for _ in range(population_size)]\n",
    "\n",
    "fitness_values = []\n",
    "for chromosome in population:\n",
    "    decoded_x = decode_chromosome(chromosome)\n",
    "    fitness_values.append(fitness_function(decoded_x))\n",
    "\n",
    "# Example output\n",
    "print(\"Initial Population:\")\n",
    "for chromosome, fitness in zip(population, fitness_values):\n",
    "    print(\"Chromosome:\", chromosome, \"Decoded:\", decode_chromosome(chromosome), \"Fitness:\", fitness)\n"
   ]
  }
 ],
 "metadata": {
  "kernelspec": {
   "display_name": "Python 3 (ipykernel)",
   "language": "python",
   "name": "python3"
  },
  "language_info": {
   "codemirror_mode": {
    "name": "ipython",
    "version": 3
   },
   "file_extension": ".py",
   "mimetype": "text/x-python",
   "name": "python",
   "nbconvert_exporter": "python",
   "pygments_lexer": "ipython3",
   "version": "3.11.7"
  }
 },
 "nbformat": 4,
 "nbformat_minor": 5
}
