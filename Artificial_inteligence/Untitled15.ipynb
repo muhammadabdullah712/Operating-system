{
 "cells": [
  {
   "cell_type": "code",
   "execution_count": 1,
   "id": "305d2db6-2cba-40bb-a85f-9571153f1c41",
   "metadata": {},
   "outputs": [
    {
     "name": "stdout",
     "output_type": "stream",
     "text": [
      "Initial Population: ['11100100', '01001111', '00000001', '00011101', '00011000', '10100100', '10001010', '01101011']\n"
     ]
    }
   ],
   "source": [
    "import random\n",
    "\n",
    "def create_population(size):\n",
    "    population = []\n",
    "    for _ in range(size):\n",
    "        chromosome = ''.join(random.choices('01', k=8))\n",
    "        population.append(chromosome)\n",
    "    return population\n",
    "\n",
    "population_size = 8\n",
    "population = create_population(population_size)\n",
    "print(\"Initial Population:\", population)\n"
   ]
  },
  {
   "cell_type": "code",
   "execution_count": 2,
   "id": "f69fa676-1928-486b-8c08-c755bcc87c34",
   "metadata": {},
   "outputs": [
    {
     "name": "stdout",
     "output_type": "stream",
     "text": [
      "Selected Chromosomes: ['00011101', '01101011', '10100100', '01101011', '10001010', '01101011', '01101011', '01101011']\n"
     ]
    }
   ],
   "source": [
    "def binary_to_decimal(binary):\n",
    "    return int(binary, 2)\n",
    "\n",
    "def fitness(chromosome):\n",
    "    x = binary_to_decimal(chromosome)\n",
    "    return -x**2 + 200*x\n",
    "\n",
    "def roulette_wheel_selection(population):\n",
    "    fitness_values = [fitness(chromosome) for chromosome in population]\n",
    "    total_fitness = sum(fitness_values)\n",
    "    probabilities = [f/total_fitness for f in fitness_values]\n",
    "    cumulative_probabilities = [sum(probabilities[:i+1]) for i in range(len(probabilities))]\n",
    "    r = random.random()\n",
    "    for i, cumulative_probability in enumerate(cumulative_probabilities):\n",
    "        if r < cumulative_probability:\n",
    "            return population[i]\n",
    "\n",
    "selected = [roulette_wheel_selection(population) for _ in range(len(population))]\n",
    "print(\"Selected Chromosomes:\", selected)\n"
   ]
  },
  {
   "cell_type": "code",
   "execution_count": 3,
   "id": "38760f5e-2efd-4f1e-bcc9-98765cf118a9",
   "metadata": {},
   "outputs": [
    {
     "name": "stdout",
     "output_type": "stream",
     "text": [
      "Selected Pairs for Mating: [('00011101', '10100100'), ('01101011', '01101011')]\n"
     ]
    }
   ],
   "source": [
    "def select_pairs(population):\n",
    "    pairs = [(population[0], population[2]), (population[1], population[3])]\n",
    "    return pairs\n",
    "\n",
    "pairs = select_pairs(selected)\n",
    "print(\"Selected Pairs for Mating:\", pairs)\n"
   ]
  },
  {
   "cell_type": "code",
   "execution_count": 4,
   "id": "b9c1e477-bcc8-427d-aa92-a9e584e95aab",
   "metadata": {},
   "outputs": [
    {
     "name": "stdout",
     "output_type": "stream",
     "text": [
      "Offspring after Crossover: ['00011100', '10100101', '01101011', '01101011']\n"
     ]
    }
   ],
   "source": [
    "def one_point_crossover(parent1, parent2):\n",
    "    point = random.randint(1, len(parent1) - 1)\n",
    "    offspring1 = parent1[:point] + parent2[point:]\n",
    "    offspring2 = parent2[:point] + parent1[point:]\n",
    "    return offspring1, offspring2\n",
    "\n",
    "offspring = []\n",
    "for pair in pairs:\n",
    "    offspring1, offspring2 = one_point_crossover(pair[0], pair[1])\n",
    "    offspring.extend([offspring1, offspring2])\n",
    "print(\"Offspring after Crossover:\", offspring)\n"
   ]
  },
  {
   "cell_type": "code",
   "execution_count": 5,
   "id": "66b5b8d2-1b20-4bbf-9d71-af73918d697f",
   "metadata": {},
   "outputs": [
    {
     "name": "stdout",
     "output_type": "stream",
     "text": [
      "Mutated Offspring: ['00000100', '10111101', '01110011', '01110011']\n"
     ]
    }
   ],
   "source": [
    "def mutate(chromosome):\n",
    "    point1, point2 = len(chromosome) // 2 - 1, len(chromosome) // 2\n",
    "    chromosome = list(chromosome)\n",
    "    chromosome[point1] = '1' if chromosome[point1] == '0' else '0'\n",
    "    chromosome[point2] = '1' if chromosome[point2] == '0' else '0'\n",
    "    return ''.join(chromosome)\n",
    "\n",
    "mutated_offspring = [mutate(child) for child in offspring]\n",
    "print(\"Mutated Offspring:\", mutated_offspring)\n"
   ]
  },
  {
   "cell_type": "code",
   "execution_count": 6,
   "id": "5b33ff47-defa-424d-85fc-21944374f733",
   "metadata": {},
   "outputs": [
    {
     "name": "stdout",
     "output_type": "stream",
     "text": [
      "Best Chromosome: 01110010, Best Fitness: 9804\n"
     ]
    }
   ],
   "source": [
    "def genetic_algorithm(population, max_iterations=3):\n",
    "    for iteration in range(max_iterations):\n",
    "        selected = [roulette_wheel_selection(population) for _ in range(len(population))]\n",
    "        pairs = select_pairs(selected)\n",
    "        offspring = []\n",
    "        for pair in pairs:\n",
    "            offspring1, offspring2 = one_point_crossover(pair[0], pair[1])\n",
    "            offspring.extend([offspring1, offspring2])\n",
    "        mutated_offspring = [mutate(child) for child in offspring]\n",
    "        \n",
    "        # Replace old population with new offspring\n",
    "        population = mutated_offspring\n",
    "        \n",
    "        # Check fitness criteria\n",
    "        best_chromosome = max(population, key=fitness)\n",
    "        best_fitness = fitness(best_chromosome)\n",
    "        if best_fitness >= 0.9 * -13999:\n",
    "            break\n",
    "        print(f\"Iteration {iteration + 1}: Best Chromosome = {best_chromosome}, Fitness = {best_fitness}\")\n",
    "    return best_chromosome, best_fitness\n",
    "\n",
    "best_chromosome, best_fitness = genetic_algorithm(population)\n",
    "print(f\"Best Chromosome: {best_chromosome}, Best Fitness: {best_fitness}\")\n"
   ]
  }
 ],
 "metadata": {
  "kernelspec": {
   "display_name": "Python 3 (ipykernel)",
   "language": "python",
   "name": "python3"
  },
  "language_info": {
   "codemirror_mode": {
    "name": "ipython",
    "version": 3
   },
   "file_extension": ".py",
   "mimetype": "text/x-python",
   "name": "python",
   "nbconvert_exporter": "python",
   "pygments_lexer": "ipython3",
   "version": "3.11.7"
  }
 },
 "nbformat": 4,
 "nbformat_minor": 5
}
