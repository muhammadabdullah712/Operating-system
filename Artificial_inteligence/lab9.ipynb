{
 "cells": [
  {
   "cell_type": "code",
   "execution_count": 1,
   "id": "b773d782-c853-4f31-8782-68c8a79cbdce",
   "metadata": {},
   "outputs": [
    {
     "name": "stdout",
     "output_type": "stream",
     "text": [
      "  |   |  \n",
      "-----\n",
      "  |   |  \n",
      "-----\n",
      "  |   |  \n",
      "-----\n",
      "Human's turn (X)\n"
     ]
    },
    {
     "name": "stdin",
     "output_type": "stream",
     "text": [
      "Enter the row (0, 1, 2):  2\n",
      "Enter the column (0, 1, 2):  3\n"
     ]
    },
    {
     "name": "stdout",
     "output_type": "stream",
     "text": [
      "Invalid move. Try again.\n",
      "  |   |  \n",
      "-----\n",
      "  |   |  \n",
      "-----\n",
      "  |   |  \n",
      "-----\n",
      "Human's turn (X)\n"
     ]
    },
    {
     "name": "stdin",
     "output_type": "stream",
     "text": [
      "Enter the row (0, 1, 2):  0\n",
      "Enter the column (0, 1, 2):  1\n"
     ]
    },
    {
     "name": "stdout",
     "output_type": "stream",
     "text": [
      "  | X |  \n",
      "-----\n",
      "  |   |  \n",
      "-----\n",
      "  |   |  \n",
      "-----\n",
      "Computer's turn (O)\n",
      "O | X |  \n",
      "-----\n",
      "  |   |  \n",
      "-----\n",
      "  |   |  \n",
      "-----\n",
      "Human's turn (X)\n"
     ]
    },
    {
     "name": "stdin",
     "output_type": "stream",
     "text": [
      "Enter the row (0, 1, 2):  2\n",
      "Enter the column (0, 1, 2):  2\n"
     ]
    },
    {
     "name": "stdout",
     "output_type": "stream",
     "text": [
      "O | X |  \n",
      "-----\n",
      "  |   |  \n",
      "-----\n",
      "  |   | X\n",
      "-----\n",
      "Computer's turn (O)\n",
      "O | X |  \n",
      "-----\n",
      "  | O |  \n",
      "-----\n",
      "  |   | X\n",
      "-----\n",
      "Human's turn (X)\n"
     ]
    },
    {
     "name": "stdin",
     "output_type": "stream",
     "text": [
      "Enter the row (0, 1, 2):  2\n",
      "Enter the column (0, 1, 2):  2\n"
     ]
    },
    {
     "name": "stdout",
     "output_type": "stream",
     "text": [
      "Invalid move. Try again.\n",
      "O | X |  \n",
      "-----\n",
      "  | O |  \n",
      "-----\n",
      "  |   | X\n",
      "-----\n",
      "Human's turn (X)\n"
     ]
    },
    {
     "name": "stdin",
     "output_type": "stream",
     "text": [
      "Enter the row (0, 1, 2):  1\n",
      "Enter the column (0, 1, 2):  2\n"
     ]
    },
    {
     "name": "stdout",
     "output_type": "stream",
     "text": [
      "O | X |  \n",
      "-----\n",
      "  | O | X\n",
      "-----\n",
      "  |   | X\n",
      "-----\n",
      "Computer's turn (O)\n",
      "O | X | O\n",
      "-----\n",
      "  | O | X\n",
      "-----\n",
      "  |   | X\n",
      "-----\n",
      "Human's turn (X)\n"
     ]
    },
    {
     "name": "stdin",
     "output_type": "stream",
     "text": [
      "Enter the row (0, 1, 2):  2\n",
      "Enter the column (0, 1, 2):  0\n"
     ]
    },
    {
     "name": "stdout",
     "output_type": "stream",
     "text": [
      "O | X | O\n",
      "-----\n",
      "  | O | X\n",
      "-----\n",
      "X |   | X\n",
      "-----\n",
      "Computer's turn (O)\n",
      "O | X | O\n",
      "-----\n",
      "  | O | X\n",
      "-----\n",
      "X | O | X\n",
      "-----\n",
      "Human's turn (X)\n"
     ]
    },
    {
     "name": "stdin",
     "output_type": "stream",
     "text": [
      "Enter the row (0, 1, 2):  1\n",
      "Enter the column (0, 1, 2):  0\n"
     ]
    },
    {
     "name": "stdout",
     "output_type": "stream",
     "text": [
      "O | X | O\n",
      "-----\n",
      "X | O | X\n",
      "-----\n",
      "X | O | X\n",
      "-----\n",
      "It's a draw!\n"
     ]
    }
   ],
   "source": [
    "import random\n",
    "\n",
    "# Modified version of Tic tac toe lab_9\n",
    "def initial_state():\n",
    "    return [[' ' for _ in range(3)] for _ in range(3)]\n",
    "\n",
    "def player(board):\n",
    "    x_count = sum(row.count('X') for row in board)\n",
    "    o_count = sum(row.count('O') for row in board)\n",
    "    return 'X' if x_count == o_count else 'O'\n",
    "\n",
    "def actions(board):\n",
    "    return [(i, j) for i in range(3) for j in range(3) if board[i][j] == ' ']\n",
    "\n",
    "def result(board, action):\n",
    "    new_board = [row[:] for row in board]\n",
    "    new_board[action[0]][action[1]] = player(board)\n",
    "    return new_board\n",
    "\n",
    "def terminal_test(board):\n",
    "    return winner(board) is not None or all(board[i][j] != ' ' for i in range(3) for j in range(3))\n",
    "\n",
    "def utility(board):\n",
    "    win = winner(board)\n",
    "    if win == 'X':\n",
    "        return 1\n",
    "    elif win == 'O':\n",
    "        return -1\n",
    "    else:\n",
    "        return 0\n",
    "\n",
    "def winner(board):\n",
    "    for player in ['X', 'O']:\n",
    "        for i in range(3):\n",
    "            if all([board[i][j] == player for j in range(3)]) or all([board[j][i] == player for j in range(3)]):\n",
    "                return player\n",
    "        if all([board[i][i] == player for i in range(3)]) or all([board[i][2-i] == player for i in range(3)]):\n",
    "            return player\n",
    "    return None\n",
    "\n",
    "# Alpha-Beta Pruning algorithm\n",
    "def alpha_beta_search(board):\n",
    "    def max_value(board, alpha, beta):\n",
    "        if terminal_test(board):\n",
    "            return utility(board)\n",
    "        v = float('-inf')\n",
    "        for action in actions(board):\n",
    "            v = max(v, min_value(result(board, action), alpha, beta))\n",
    "            if v >= beta:\n",
    "                return v\n",
    "            alpha = max(alpha, v)\n",
    "        return v\n",
    "\n",
    "    def min_value(board, alpha, beta):\n",
    "        if terminal_test(board):\n",
    "            return utility(board)\n",
    "        v = float('inf')\n",
    "        for action in actions(board):\n",
    "            v = min(v, max_value(result(board, action), alpha, beta))\n",
    "            if v <= alpha:\n",
    "                return v\n",
    "            beta = min(beta, v)\n",
    "        return v\n",
    "\n",
    "    current_player = player(board)\n",
    "    if current_player == 'X':\n",
    "        best_score = float('-inf')\n",
    "        best_action = None\n",
    "        for action in actions(board):\n",
    "            score = min_value(result(board, action), float('-inf'), float('inf'))\n",
    "            if score > best_score:\n",
    "                best_score = score\n",
    "                best_action = action\n",
    "    else:\n",
    "        best_score = float('inf')\n",
    "        best_action = None\n",
    "        for action in actions(board):\n",
    "            score = max_value(result(board, action), float('-inf'), float('inf'))\n",
    "            if score < best_score:\n",
    "                best_score = score\n",
    "                best_action = action\n",
    "\n",
    "    return best_action\n",
    "\n",
    "def print_board(board):\n",
    "    for row in board:\n",
    "        print(' | '.join(row))\n",
    "        print('-' * 5)\n",
    "\n",
    "def play_game():\n",
    "    board = initial_state()\n",
    "    while not terminal_test(board):\n",
    "        print_board(board)\n",
    "        if player(board) == 'X':\n",
    "            print(\"Human's turn (X)\")\n",
    "            row = int(input(\"Enter the row (0, 1, 2): \"))\n",
    "            col = int(input(\"Enter the column (0, 1, 2): \"))\n",
    "            if (row, col) in actions(board):\n",
    "                board = result(board, (row, col))\n",
    "            else:\n",
    "                print(\"Invalid move. Try again.\")\n",
    "        else:\n",
    "            print(\"Computer's turn (O)\")\n",
    "            move = alpha_beta_search(board)\n",
    "            board = result(board, move)\n",
    "    \n",
    "    print_board(board)\n",
    "    if winner(board) is not None:\n",
    "        print(f\"{winner(board)} wins!\")\n",
    "    else:\n",
    "        print(\"It's a draw!\")\n",
    "\n",
    "play_game()\n"
   ]
  }
 ],
 "metadata": {
  "kernelspec": {
   "display_name": "Python 3 (ipykernel)",
   "language": "python",
   "name": "python3"
  },
  "language_info": {
   "codemirror_mode": {
    "name": "ipython",
    "version": 3
   },
   "file_extension": ".py",
   "mimetype": "text/x-python",
   "name": "python",
   "nbconvert_exporter": "python",
   "pygments_lexer": "ipython3",
   "version": "3.11.7"
  }
 },
 "nbformat": 4,
 "nbformat_minor": 5
}
