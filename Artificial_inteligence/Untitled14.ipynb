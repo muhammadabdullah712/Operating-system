{
 "cells": [
  {
   "cell_type": "code",
   "execution_count": 1,
   "id": "17de5693-4c38-44a3-bff1-3f05cd990c5b",
   "metadata": {},
   "outputs": [
    {
     "ename": "ModuleNotFoundError",
     "evalue": "No module named 'logic'",
     "output_type": "error",
     "traceback": [
      "\u001b[1;31m---------------------------------------------------------------------------\u001b[0m",
      "\u001b[1;31mModuleNotFoundError\u001b[0m                       Traceback (most recent call last)",
      "Cell \u001b[1;32mIn[1], line 1\u001b[0m\n\u001b[1;32m----> 1\u001b[0m \u001b[38;5;28;01mfrom\u001b[39;00m \u001b[38;5;21;01mlogic\u001b[39;00m \u001b[38;5;28;01mimport\u001b[39;00m expr, tt_true\n\u001b[0;32m      3\u001b[0m \u001b[38;5;66;03m# a. P v ¬P\u001b[39;00m\n\u001b[0;32m      4\u001b[0m \u001b[38;5;28mprint\u001b[39m(tt_true(expr(\u001b[38;5;124m'\u001b[39m\u001b[38;5;124mP | ~P\u001b[39m\u001b[38;5;124m'\u001b[39m)))  \u001b[38;5;66;03m# True\u001b[39;00m\n",
      "\u001b[1;31mModuleNotFoundError\u001b[0m: No module named 'logic'"
     ]
    }
   ],
   "source": [
    "from logic import expr, tt_true\n",
    "\n",
    "# a. P v ¬P\n",
    "print(tt_true(expr('P | ~P')))  # True\n",
    "\n",
    "# b. P → P\n",
    "print(tt_true(expr('P >> P')))  # True\n",
    "\n",
    "# c. P → (P v Q)\n",
    "print(tt_true(expr('P >> (P | Q)')))  # True\n",
    "\n",
    "# d. (P v Q) → P\n",
    "print(tt_true(expr('(P | Q) >> P')))  # False\n",
    "\n",
    "# e. ((A 𝖠B) →C) ↔ (A → (B → C))\n",
    "print(tt_true(expr('((A & B) >> C) <=> (A >> (B >> C))')))  # True\n",
    "\n",
    "# f. ((A →B) →A) →A\n",
    "print(tt_true(expr('((A >> B) >> A) >> A')))  # True\n"
   ]
  },
  {
   "cell_type": "code",
   "execution_count": 2,
   "id": "44ad8185-257e-47dd-8e40-e2dc7133f189",
   "metadata": {},
   "outputs": [
    {
     "ename": "ModuleNotFoundError",
     "evalue": "No module named 'logic'",
     "output_type": "error",
     "traceback": [
      "\u001b[1;31m---------------------------------------------------------------------------\u001b[0m",
      "\u001b[1;31mModuleNotFoundError\u001b[0m                       Traceback (most recent call last)",
      "Cell \u001b[1;32mIn[2], line 1\u001b[0m\n\u001b[1;32m----> 1\u001b[0m \u001b[38;5;28;01mfrom\u001b[39;00m \u001b[38;5;21;01mlogic\u001b[39;00m \u001b[38;5;28;01mimport\u001b[39;00m expr, dpll_satisfiable\n\u001b[0;32m      3\u001b[0m \u001b[38;5;66;03m# a. P 𝖠 Q\u001b[39;00m\n\u001b[0;32m      4\u001b[0m \u001b[38;5;28mprint\u001b[39m(dpll_satisfiable(expr(\u001b[38;5;124m'\u001b[39m\u001b[38;5;124mP & Q\u001b[39m\u001b[38;5;124m'\u001b[39m)))  \u001b[38;5;66;03m# {P: True, Q: True}\u001b[39;00m\n",
      "\u001b[1;31mModuleNotFoundError\u001b[0m: No module named 'logic'"
     ]
    }
   ],
   "source": [
    "from logic import expr, dpll_satisfiable\n",
    "\n",
    "# a. P 𝖠 Q\n",
    "print(dpll_satisfiable(expr('P & Q')))  # {P: True, Q: True}\n",
    "\n",
    "# b. ALIVE → ¬DEAD 𝖠 ¬ALIVE 𝖠 ¬DEAD\n",
    "print(dpll_satisfiable(expr('ALIVE >> ~DEAD & ~ALIVE & ~DEAD')))  # False\n",
    "\n",
    "# c. P → ¬ P v P\n",
    "print(dpll_satisfiable(expr('P >> ~P | P')))  # {P: False}\n",
    "\n",
    "# d. ~ (P v ¬ P)\n",
    "print(dpll_satisfiable(expr('~ (P | ~P)')))  # False\n"
   ]
  },
  {
   "cell_type": "code",
   "execution_count": 3,
   "id": "a2012078-3b18-4edf-b3b1-819d4cd59cc0",
   "metadata": {},
   "outputs": [
    {
     "ename": "ModuleNotFoundError",
     "evalue": "No module named 'logic'",
     "output_type": "error",
     "traceback": [
      "\u001b[1;31m---------------------------------------------------------------------------\u001b[0m",
      "\u001b[1;31mModuleNotFoundError\u001b[0m                       Traceback (most recent call last)",
      "Cell \u001b[1;32mIn[3], line 1\u001b[0m\n\u001b[1;32m----> 1\u001b[0m \u001b[38;5;28;01mfrom\u001b[39;00m \u001b[38;5;21;01mlogic\u001b[39;00m \u001b[38;5;28;01mimport\u001b[39;00m entails\n\u001b[0;32m      3\u001b[0m \u001b[38;5;66;03m# a. P 𝖠 Q 𝖼 P\u001b[39;00m\n\u001b[0;32m      4\u001b[0m \u001b[38;5;28mprint\u001b[39m(entails(expr(\u001b[38;5;124m'\u001b[39m\u001b[38;5;124mP & Q\u001b[39m\u001b[38;5;124m'\u001b[39m), expr(\u001b[38;5;124m'\u001b[39m\u001b[38;5;124mP\u001b[39m\u001b[38;5;124m'\u001b[39m)))  \u001b[38;5;66;03m# True\u001b[39;00m\n",
      "\u001b[1;31mModuleNotFoundError\u001b[0m: No module named 'logic'"
     ]
    }
   ],
   "source": [
    "from logic import entails\n",
    "\n",
    "# a. P 𝖠 Q 𝖼 P\n",
    "print(entails(expr('P & Q'), expr('P')))  # True\n",
    "\n",
    "# b. P 𝖼 P 𝖠 Q\n",
    "print(entails(expr('P'), expr('P & Q')))  # False\n",
    "\n",
    "# c. P 𝖼 P v Q\n",
    "print(entails(expr('P'), expr('P | Q')))  # True\n",
    "\n",
    "# d. P 𝖼 ¬ ¬ P\n",
    "print(entails(expr('P'), expr('~~P')))  # True\n",
    "\n",
    "# e. P → Q 𝖼 ¬ P → ¬ Q\n",
    "print(entails(expr('P >> Q'), expr('~P >> ~Q')))  # False\n",
    "\n",
    "# f. ¬ P 𝖼 P → Q\n",
    "print(entails(expr('~P'), expr('P >> Q')))  # True\n",
    "\n",
    "# g. ¬ Q 𝖼 P → Q\n",
    "print(entails(expr('~Q'), expr('P >> Q')))  # False\n",
    "\n",
    "# h. P 𝖠 (P → Q) 𝖼 Q\n",
    "print(entails(expr('P & (P >> Q)'), expr('Q')))  # True\n",
    "\n",
    "# i. ( ¬ P) 𝖠 (Q → P) 𝖼 ¬ Q\n",
    "print(entails(expr('~P & (Q >> P)'), expr('~Q')))  # True\n"
   ]
  }
 ],
 "metadata": {
  "kernelspec": {
   "display_name": "Python 3 (ipykernel)",
   "language": "python",
   "name": "python3"
  },
  "language_info": {
   "codemirror_mode": {
    "name": "ipython",
    "version": 3
   },
   "file_extension": ".py",
   "mimetype": "text/x-python",
   "name": "python",
   "nbconvert_exporter": "python",
   "pygments_lexer": "ipython3",
   "version": "3.11.7"
  }
 },
 "nbformat": 4,
 "nbformat_minor": 5
}
