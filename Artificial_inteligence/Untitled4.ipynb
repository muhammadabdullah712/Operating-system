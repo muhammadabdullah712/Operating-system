{
 "cells": [
  {
   "cell_type": "code",
   "execution_count": 28,
   "id": "18cde849-867b-426c-8abb-2ec9c308451b",
   "metadata": {},
   "outputs": [
    {
     "name": "stdout",
     "output_type": "stream",
     "text": [
      "['Abdullah', 'Abdullah', 'Abdullah', 'Abdullah', 'Abdullah', 'Abdullah', 'Abdullah', 'Abdullah', 'Abdullah', 'Abdullah', 'rana', 'rana', 'rana', 'rana', 'rana', 'rana', 'rana', 'rana', 'rana', 'rana']\n"
     ]
    }
   ],
   "source": [
    "lst =['Abdullah']*10\n",
    "lst2=['rana']*10\n",
    "lst1=lst+lst2\n",
    "print(lst1)\n"
   ]
  },
  {
   "cell_type": "code",
   "execution_count": 20,
   "id": "caaa3379-ecfb-49c5-bca6-88963a4bfe05",
   "metadata": {},
   "outputs": [
    {
     "data": {
      "text/plain": [
       "['am']"
      ]
     },
     "execution_count": 20,
     "metadata": {},
     "output_type": "execute_result"
    }
   ],
   "source": [
    "list=['ab','kh','am','th','al']\n",
    "list[2:3]\n"
   ]
  },
  {
   "cell_type": "code",
   "execution_count": 22,
   "id": "e667704f-fa93-47a5-9ced-b3690268313f",
   "metadata": {},
   "outputs": [
    {
     "data": {
      "text/plain": [
       "['ab', 'kh', 'za', 'ma', 'mr', 'ar']"
      ]
     },
     "execution_count": 22,
     "metadata": {},
     "output_type": "execute_result"
    }
   ],
   "source": [
    "list[2:5]=['za','ma','mr']\n",
    "list\n",
    "list.append('ar')\n",
    "list"
   ]
  },
  {
   "cell_type": "code",
   "execution_count": 27,
   "id": "0006e679-dc50-4de7-8466-a7ef66be2a34",
   "metadata": {},
   "outputs": [
    {
     "data": {
      "text/plain": [
       "['amna', 'anaya', 'khadija', 'maham', 'mahnoor', 'samia']"
      ]
     },
     "execution_count": 27,
     "metadata": {},
     "output_type": "execute_result"
    }
   ],
   "source": [
    "list1=['amna','khadija','mahnoor','maham','anaya','samia']\n",
    "list1.sort()\n",
    "list1"
   ]
  },
  {
   "cell_type": "code",
   "execution_count": 47,
   "id": "8935309c-86bd-4215-bf30-361e27524240",
   "metadata": {},
   "outputs": [
    {
     "data": {
      "text/plain": [
       "['amna', 'anaya', 'khadija', 'maham', 'mahnoor', 'samia']"
      ]
     },
     "execution_count": 47,
     "metadata": {},
     "output_type": "execute_result"
    }
   ],
   "source": [
    "list5=['amna','khadija','mahnoor','maham','anaya','samia']\n",
    "list5.sort()\n",
    "list5"
   ]
  },
  {
   "cell_type": "code",
   "execution_count": 51,
   "id": "020cd290-323d-44a8-9917-2079f9d3d691",
   "metadata": {},
   "outputs": [
    {
     "name": "stdout",
     "output_type": "stream",
     "text": [
      "khadija ['amna', 'anaya', 'maham']\n"
     ]
    }
   ],
   "source": [
    "var=list5.pop(2)\n",
    "print(var,list5)"
   ]
  },
  {
   "cell_type": "markdown",
   "id": "7d58ae48-f64e-48f8-add2-60b21ca8f147",
   "metadata": {},
   "source": []
  },
  {
   "cell_type": "code",
   "execution_count": 61,
   "id": "bee19768-db25-4a45-b9a7-7129abb4156b",
   "metadata": {},
   "outputs": [
    {
     "name": "stdout",
     "output_type": "stream",
     "text": [
      "22 is found in my numbers\n",
      "10 is not found in my numbers\n"
     ]
    }
   ],
   "source": [
    "number=[12,14,22,11]\n",
    "mynum=22\n",
    "if mynum in number:\n",
    "     print(\"%d is found in my numbers\" % mynum)\n",
    "mynum=10\n",
    "if mynum not in number:\n",
    "     print(\"%d is not found in my numbers\" % mynum)\n",
    "\n"
   ]
  },
  {
   "cell_type": "code",
   "execution_count": 64,
   "id": "7f4ebd3a-1e42-49eb-9d8e-259c0f26f2f7",
   "metadata": {},
   "outputs": [
    {
     "ename": "IndentationError",
     "evalue": "unindent does not match any outer indentation level (<string>, line 129)",
     "output_type": "error",
     "traceback": [
      "\u001b[1;36m  File \u001b[1;32m<string>:129\u001b[1;36m\u001b[0m\n\u001b[1;33m    tree = Tree()\u001b[0m\n\u001b[1;37m                 ^\u001b[0m\n\u001b[1;31mIndentationError\u001b[0m\u001b[1;31m:\u001b[0m unindent does not match any outer indentation level\n"
     ]
    }
   ],
   "source": [
    "from collections import defaultdict\n",
    "class Node:\n",
    "    def __init__(self, data):\n",
    "        self.left_child = None\n",
    "        self.right_child = None\n",
    "        self.data = data\n",
    "\n",
    "class Tree:\n",
    "    def __init__(self):\n",
    "        self.root_node = None\n",
    "    \n",
    "    #Finding minimum and maximum nodes\n",
    "    def find_min(self):\n",
    "        current = self.root_node\n",
    "        while current.left_child:\n",
    "            current = current.left_child\n",
    "        return current\n",
    "    \n",
    "    def find_max(self):\n",
    "        current = self.root_node\n",
    "        while current.right_child:\n",
    "            current = current.right_child\n",
    "        return current\n",
    "    \n",
    "    #Inserting Nodes\n",
    "    def insert(self, data):\n",
    "        node = Node(data)\n",
    "        if self.root_node is None:\n",
    "            self.root_node = node\n",
    "        else:\n",
    "            current = self.root_node\n",
    "            parent = None\n",
    "            while True:\n",
    "                parent = current\n",
    "                if data < current.data:\n",
    "                    current = current.left_child\n",
    "                    if current is None:\n",
    "                        parent.left_child = node\n",
    "                        return\n",
    "                else:\n",
    "                    current = current.right_child\n",
    "                    if current is None:\n",
    "                        parent.right_child = node\n",
    "                        return\n",
    "    \n",
    "    #Deleting Nodes:\n",
    "    def get_node_with_parent(self, data):\n",
    "        parent = None\n",
    "        current = self.root_node\n",
    "        if current is None:\n",
    "            return (parent, None)\n",
    "        \n",
    "        while True:\n",
    "            if current.data == data:\n",
    "                return (parent, current)\n",
    "            elif current.data > data:\n",
    "                parent = current\n",
    "                current = current.left_child\n",
    "            else:\n",
    "                parent = current\n",
    "                current = current.right_child\n",
    "        return (parent, current)\n",
    "    \n",
    "    def remove(self, data):\n",
    "        parent, node = self.get_node_with_parent(data)\n",
    "        if parent is None and node is None:\n",
    "            return False\n",
    "        children_count = 0\n",
    "        \n",
    "        if node.left_child and node.right_child:\n",
    "            children_count = 2\n",
    "        elif (node.left_child is None) and (node.right_child is None):\n",
    "            children_count = 0\n",
    "        else:\n",
    "            children_count = 1\n",
    "\n",
    "        if children_count == 0: \n",
    "            if parent: \n",
    "                if parent.right_child is node:\n",
    "                    parent.right_child = None\n",
    "                else: \n",
    "                    parent.left_child = None \n",
    "            else: \n",
    "                self.root_node = None \n",
    "        elif children_count == 1: \n",
    "            next_node = None \n",
    "            if node.left_child:\n",
    "                next_node = node.left_child\n",
    "            else:  \n",
    "                next_node = node.right_child \n",
    "            if parent: \n",
    "                if parent.left_child is node: \n",
    "                    parent.left_child = next_node \n",
    "                else:\n",
    "                    parent.right_child = next_node\n",
    "            else:\n",
    "                self.root_node = next_node\n",
    "        else:\n",
    "            parentof_leftmost_node = node\n",
    "            leftmost_node = node.right_child\n",
    "            while leftmost_node.left_child:\n",
    "                parentof_leftmost_node = leftmost_node\n",
    "                leftmost_node = leftmost_node.left_child\n",
    "            node.data = leftmost_node.data\n",
    "            if parentof_leftmost_node.left_child == leftmost_node: \n",
    "                parentof_leftmost_node.left_child = leftmost_node.right_child\n",
    "            else: \n",
    "                parentof_leftmost_node.right_child = leftmost_node.right_child\n",
    "    \n",
    "    #Searching the Tree\n",
    "    def search(self, data):\n",
    "        current = self.root_node\n",
    "        while True:\n",
    "            if current is None:\n",
    "                return None\n",
    "            elif current.data is data:\n",
    "                return data\n",
    "            elif current.data > data:\n",
    "                current = current.left_child\n",
    "            else:\n",
    "                current = current.right_child\n",
    "                \n",
    "    def print_tree(self, root_node, indent=0, prefix=\"\"):\n",
    "        if root_node is not None:\n",
    "            print(\" \" * indent + prefix + f\"{root_node.data}\")\n",
    "            if root_node.left_child is not None or root_node.right_child is not None:\n",
    "                self.print_tree(root_node.left_child, indent + 4, \"L-- \")\n",
    "                self.print_tree(root_node.right_child, indent + 4, \"R-- \")\n",
    "   tree = Tree()\n",
    "tree.insert(5)\n",
    "tree.insert(3)\n",
    "tree.insert(8)\n",
    "tree.insert(7)\n",
    "tree.insert(4)\n",
    "tree.insert(20)\n",
    "tree.insert(1)\n",
    "tree.insert(16)\n",
    "tree.insert(19)\n",
    "tree.insert(6)\n",
    "\n",
    "tree.insert(8)\n",
    "tree.insert(15)\n",
    "\n",
    "tree.insert(16)\n",
    "tree.print_tree(tree.root_node)"
   ]
  }
 ],
 "metadata": {
  "kernelspec": {
   "display_name": "Python 3 (ipykernel)",
   "language": "python",
   "name": "python3"
  },
  "language_info": {
   "codemirror_mode": {
    "name": "ipython",
    "version": 3
   },
   "file_extension": ".py",
   "mimetype": "text/x-python",
   "name": "python",
   "nbconvert_exporter": "python",
   "pygments_lexer": "ipython3",
   "version": "3.12.2"
  }
 },
 "nbformat": 4,
 "nbformat_minor": 5
}
