{
 "cells": [
  {
   "cell_type": "code",
   "execution_count": null,
   "id": "c64208d4-2aa2-4ac2-8cc1-b8ff5e755c0e",
   "metadata": {},
   "outputs": [],
   "source": [
    "import pandas as pd\n",
    "from sklearn.model_selection import train_test_split\n",
    "from sklearn.neighbors import KNeighborsClassifier\n",
    "from sklearn.metrics import accuracy_score\n",
    "\n",
    "# Load dataset\n",
    "# Replace 'your_dataset.csv' with the actual path to your dataset\n",
    "data = pd.read_csv('your_dataset.csv')\n",
    "\n",
    "# Print the first few rows of the dataset to verify it's loaded correctly\n",
    "print(data.head())\n",
    "\n",
    "# Step 1: Remove specified columns\n",
    "columns_to_remove = ['X1', 'X11', 'X12', 'X20']\n",
    "data = data.drop(columns=columns_to_remove, errors='ignore')\n",
    "print(\"Data after removing specified columns:\\n\", data.head())\n",
    "\n",
    "# Step 2: Train-Test Split\n",
    "X = data.drop('Class', axis=1)\n",
    "y = data['Class']\n",
    "\n",
    "# Perform train-test split\n",
    "X_train, X_test, y_train, y_test = train_test_split(X, y, stratify=y, test_size=0.3, random_state=42)\n",
    "print(\"Train and Test data prepared.\")\n",
    "\n",
    "# Step 3: Train KNN Model\n",
    "knn5 = KNeighborsClassifier(n_neighbors=5)\n",
    "knn5.fit(X_train, y_train)\n",
    "\n",
    "knn21 = KNeighborsClassifier(n_neighbors=21)\n",
    "knn21.fit(X_train, y_train)\n",
    "\n",
    "# Step 4: Perform Prediction\n",
    "y_pred5 = knn5.predict(X_test)\n",
    "y_pred21 = knn21.predict(X_test)\n",
    "\n",
    "# Step 5: Calculate Accuracy\n",
    "accuracy5 = accuracy_score(y_test, y_pred5)\n",
    "accuracy21 = accuracy_score(y_test, y_pred21)\n",
    "\n",
    "print(f\"Accuracy for k=5: {accuracy5}\")\n",
    "print(f\"Accuracy for k=21: {accuracy21}\")\n",
    "\n",
    "# Step 6: Predict New Data Point\n",
    "new_data_point = [0.1, 2.2, 0.03, 1.4, 0.05, 0.6, 0.07, 1.08, 1.9, 0.11, 8.012, 0.13, 0.014, 6.15, 0.016, 4.17, 0.018, 0.019]\n",
    "new_data_point = pd.DataFrame([new_data_point], columns=X.columns)\n",
    "\n",
    "# Use the model with better accuracy\n",
    "if accuracy5 > accuracy21:\n",
    "    prediction = knn5.predict(new_data_point)\n",
    "    print(f\"Prediction for the new data point with k=5: {prediction}\")\n",
    "else:\n",
    "    prediction = knn21.predict(new_data_point)\n",
    "    print(f\"Prediction for the new data point with k=21: {prediction}\")\n"
   ]
  }
 ],
 "metadata": {
  "kernelspec": {
   "display_name": "Python 3 (ipykernel)",
   "language": "python",
   "name": "python3"
  },
  "language_info": {
   "codemirror_mode": {
    "name": "ipython",
    "version": 3
   },
   "file_extension": ".py",
   "mimetype": "text/x-python",
   "name": "python",
   "nbconvert_exporter": "python",
   "pygments_lexer": "ipython3",
   "version": "3.11.7"
  }
 },
 "nbformat": 4,
 "nbformat_minor": 5
}
