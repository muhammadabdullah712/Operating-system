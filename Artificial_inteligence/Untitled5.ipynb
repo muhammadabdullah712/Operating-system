{
 "cells": [
  {
   "cell_type": "code",
   "execution_count": 4,
   "id": "7065f504-5cfd-49cb-8a7b-f62fa8636975",
   "metadata": {},
   "outputs": [
    {
     "ename": "NameError",
     "evalue": "name 'operators' is not defined",
     "output_type": "error",
     "traceback": [
      "\u001b[1;31m---------------------------------------------------------------------------\u001b[0m",
      "\u001b[1;31mNameError\u001b[0m                                 Traceback (most recent call last)",
      "Cell \u001b[1;32mIn[4], line 42\u001b[0m\n\u001b[0;32m     39\u001b[0m goal_state \u001b[38;5;241m=\u001b[39m [\u001b[38;5;241m1\u001b[39m, \u001b[38;5;241m2\u001b[39m, \u001b[38;5;241m3\u001b[39m, \u001b[38;5;241m4\u001b[39m, \u001b[38;5;241m5\u001b[39m, \u001b[38;5;241m6\u001b[39m, \u001b[38;5;241m7\u001b[39m, \u001b[38;5;241m8\u001b[39m, \u001b[38;5;28;01mNone\u001b[39;00m]\n\u001b[0;32m     41\u001b[0m \u001b[38;5;66;03m# Call GreedySearch function\u001b[39;00m\n\u001b[1;32m---> 42\u001b[0m result \u001b[38;5;241m=\u001b[39m \u001b[43mGreedySearch\u001b[49m\u001b[43m(\u001b[49m\u001b[43minitial_state\u001b[49m\u001b[43m,\u001b[49m\u001b[43m \u001b[49m\u001b[43mgoal_state\u001b[49m\u001b[43m)\u001b[49m\n\u001b[0;32m     43\u001b[0m \u001b[38;5;28mprint\u001b[39m(\u001b[38;5;124m\"\u001b[39m\u001b[38;5;124mResult:\u001b[39m\u001b[38;5;124m\"\u001b[39m, result)\n",
      "Cell \u001b[1;32mIn[4], line 31\u001b[0m, in \u001b[0;36mGreedySearch\u001b[1;34m(state, goal_state)\u001b[0m\n\u001b[0;32m     28\u001b[0m \u001b[38;5;28;01mif\u001b[39;00m current_state \u001b[38;5;241m==\u001b[39m goal_state:\n\u001b[0;32m     29\u001b[0m     \u001b[38;5;28;01mreturn\u001b[39;00m current_state\n\u001b[1;32m---> 31\u001b[0m \u001b[38;5;28;01mfor\u001b[39;00m neighbor \u001b[38;5;129;01min\u001b[39;00m \u001b[43moperators\u001b[49m(current_state):\n\u001b[0;32m     32\u001b[0m     \u001b[38;5;28;01mif\u001b[39;00m \u001b[38;5;28mtuple\u001b[39m(neighbor) \u001b[38;5;129;01mnot\u001b[39;00m \u001b[38;5;129;01min\u001b[39;00m visited:\n\u001b[0;32m     33\u001b[0m         frontier\u001b[38;5;241m.\u001b[39mappend((h1(neighbor, goal_state), neighbor))\n",
      "\u001b[1;31mNameError\u001b[0m: name 'operators' is not defined"
     ]
    }
   ],
   "source": [
    "def h1(state, goal_state):\n",
    "    \"\"\"Heuristic function 1: Count how many tiles are in the wrong place..\"\"\"\n",
    "    count = 0\n",
    "    for i in range(len(state)):\n",
    "        if state[i] != goal_state[i]:\n",
    "            count += 1\n",
    "    return count\n",
    "\n",
    "def h2(state, goal_state):\n",
    "    \"\"\"Heuristic function 2: Sum of Manhattan distances\"\"\"\n",
    "    distance = 0\n",
    "    for i in range(len(state)):\n",
    "        if state[i] != goal_state[i]:\n",
    "            goal_index = goal_state.index(state[i])\n",
    "            distance += abs(i % 3 - goal_index % 3) + abs(i // 3 - goal_index // 3)\n",
    "    return distance\n",
    "\n",
    "def GreedySearch(state, goal_state):\n",
    "    \"\"\"Greedy Best First Search\"\"\"\n",
    "    visited = set()\n",
    "    frontier = [(h1(state, goal_state), state)]\n",
    "    \n",
    "    while frontier:\n",
    "        frontier.sort(key=lambda x: x[0])  # Sort frontier based on heuristic value\n",
    "        current_state = frontier.pop(0)[1]\n",
    "        visited.add(tuple(current_state))\n",
    "        \n",
    "        if current_state == goal_state:\n",
    "            return current_state\n",
    "        \n",
    "        for neighbor in operators(current_state):\n",
    "            if tuple(neighbor) not in visited:\n",
    "                frontier.append((h1(neighbor, goal_state), neighbor))\n",
    "    \n",
    "    return \"Goal state not found\"\n",
    "\n",
    "# Initial and goal states\n",
    "initial_state = [2, 1, 3, 4, 7, 6, 5, 8, None]\n",
    "goal_state = [1, 2, 3, 4, 5, 6, 7, 8, None]\n",
    "\n",
    "# Call GreedySearch function\n",
    "result = GreedySearch(initial_state, goal_state)\n",
    "print(\"Result:\", result)\n",
    "\n",
    "\n"
   ]
  },
  {
   "cell_type": "code",
   "execution_count": 5,
   "id": "2337ee39-9ff9-4e17-b530-2f63b694ff3a",
   "metadata": {},
   "outputs": [
    {
     "ename": "NameError",
     "evalue": "name 'operators' is not defined",
     "output_type": "error",
     "traceback": [
      "\u001b[1;31m---------------------------------------------------------------------------\u001b[0m",
      "\u001b[1;31mNameError\u001b[0m                                 Traceback (most recent call last)",
      "Cell \u001b[1;32mIn[5], line 26\u001b[0m\n\u001b[0;32m     23\u001b[0m     \u001b[38;5;28;01mreturn\u001b[39;00m \u001b[38;5;124m\"\u001b[39m\u001b[38;5;124mGoal state not found.\u001b[39m\u001b[38;5;124m\"\u001b[39m\n\u001b[0;32m     25\u001b[0m \u001b[38;5;66;03m# Call AStarSearch function\u001b[39;00m\n\u001b[1;32m---> 26\u001b[0m result_astar \u001b[38;5;241m=\u001b[39m \u001b[43mAStarSearch\u001b[49m\u001b[43m(\u001b[49m\u001b[43minitial_state\u001b[49m\u001b[43m,\u001b[49m\u001b[43m \u001b[49m\u001b[43mgoal_state\u001b[49m\u001b[43m)\u001b[49m\n\u001b[0;32m     27\u001b[0m \u001b[38;5;28mprint\u001b[39m(\u001b[38;5;124m\"\u001b[39m\u001b[38;5;124mResult:\u001b[39m\u001b[38;5;124m\"\u001b[39m, result_astar)\n",
      "Cell \u001b[1;32mIn[5], line 15\u001b[0m, in \u001b[0;36mAStarSearch\u001b[1;34m(state, goal_state)\u001b[0m\n\u001b[0;32m     12\u001b[0m \u001b[38;5;28;01mif\u001b[39;00m current_state \u001b[38;5;241m==\u001b[39m goal_state:\n\u001b[0;32m     13\u001b[0m     \u001b[38;5;28;01mreturn\u001b[39;00m current_state\n\u001b[1;32m---> 15\u001b[0m \u001b[38;5;28;01mfor\u001b[39;00m neighbor \u001b[38;5;129;01min\u001b[39;00m \u001b[43moperators\u001b[49m(current_state):\n\u001b[0;32m     16\u001b[0m     \u001b[38;5;28;01mif\u001b[39;00m \u001b[38;5;28mtuple\u001b[39m(neighbor) \u001b[38;5;129;01mnot\u001b[39;00m \u001b[38;5;129;01min\u001b[39;00m visited:\n\u001b[0;32m     17\u001b[0m         new_g \u001b[38;5;241m=\u001b[39m g_values[\u001b[38;5;28mtuple\u001b[39m(current_state)] \u001b[38;5;241m+\u001b[39m \u001b[38;5;241m1\u001b[39m\n",
      "\u001b[1;31mNameError\u001b[0m: name 'operators' is not defined"
     ]
    }
   ],
   "source": [
    "def AStarSearch(state, goal_state):\n",
    "    \"\"\"Now by A* Search algorithm to solve this\"\"\"\n",
    "    visited = set()\n",
    "    frontier = [(0, state, None)]  # (f(n), state, parent)\n",
    "    g_values = {tuple(state): 0}\n",
    "    \n",
    "    while frontier:\n",
    "        frontier.sort(key=lambda x: x[0])  # Sort frontier based on f(n)\n",
    "        current_f, current_state, parent = frontier.pop(0)\n",
    "        visited.add(tuple(current_state))\n",
    "        \n",
    "        if current_state == goal_state:\n",
    "            return current_state\n",
    "        \n",
    "        for neighbor in operators(current_state):\n",
    "            if tuple(neighbor) not in visited:\n",
    "                new_g = g_values[tuple(current_state)] + 1\n",
    "                if tuple(neighbor) not in g_values or new_g < g_values[tuple(neighbor)]:\n",
    "                    g_values[tuple(neighbor)] = new_g\n",
    "                    f_value = new_g + h2(neighbor, goal_state)  # f(n) = g(n) + h(n)\n",
    "                    frontier.append((f_value, neighbor, current_state))\n",
    "    \n",
    "    return \"Goal state not found.\"\n",
    "\n",
    "# Call AStarSearch function\n",
    "result_astar = AStarSearch(initial_state, goal_state)\n",
    "print(\"Result:\", result_astar)\n"
   ]
  }
 ],
 "metadata": {
  "kernelspec": {
   "display_name": "Python 3 (ipykernel)",
   "language": "python",
   "name": "python3"
  },
  "language_info": {
   "codemirror_mode": {
    "name": "ipython",
    "version": 3
   },
   "file_extension": ".py",
   "mimetype": "text/x-python",
   "name": "python",
   "nbconvert_exporter": "python",
   "pygments_lexer": "ipython3",
   "version": "3.12.2"
  }
 },
 "nbformat": 4,
 "nbformat_minor": 5
}
