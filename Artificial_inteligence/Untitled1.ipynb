{
 "cells": [
  {
   "cell_type": "code",
   "execution_count": 1,
   "id": "8e50c7de-17f6-4778-8ee8-52a11f42650c",
   "metadata": {},
   "outputs": [
    {
     "name": "stdout",
     "output_type": "stream",
     "text": [
      "1\n",
      "2 3\n",
      "4 5 6\n",
      "7 8 9 10\n",
      "11 12 13 14 15\n",
      "16 17 18 19 20 21\n",
      "22 23 24 25 26 27 28\n",
      "29 30 31 32 33 34 35 36\n",
      "37 38 39 40 41 42 43 44 45\n",
      "46 47 48 49 50 51 52 53 54 55\n"
     ]
    }
   ],
   "source": [
    "def triangle():\n",
    "    value = 1\n",
    "    row = 1\n",
    "    while row <= 10:\n",
    "        column = 1\n",
    "        while column <= row:\n",
    "            if column != row:\n",
    "                print(value, ' ', sep = '', end = '')\n",
    "            else:\n",
    "                print(value)\n",
    "            value = value + 1\n",
    "            column = column + 1\n",
    "        row = row + 1\n",
    "triangle()"
   ]
  },
  {
   "cell_type": "code",
   "execution_count": 2,
   "id": "f3202354-7bcb-4456-abc1-bbfb201882a2",
   "metadata": {},
   "outputs": [],
   "source": [
    "MyList = [1,2,3,4,5,6,7,8,9]"
   ]
  },
  {
   "cell_type": "code",
   "execution_count": 3,
   "id": "a7245af4-d463-465d-bd51-16b18df60c44",
   "metadata": {},
   "outputs": [],
   "source": [
    "s = sum(MyList)"
   ]
  },
  {
   "cell_type": "code",
   "execution_count": 6,
   "id": "09e3836d-efbd-414b-a26e-6d4441da1cb6",
   "metadata": {},
   "outputs": [
    {
     "name": "stdout",
     "output_type": "stream",
     "text": [
      "9\n"
     ]
    }
   ],
   "source": [
    "largest = max(MyList)\n",
    "print(largest)"
   ]
  },
  {
   "cell_type": "code",
   "execution_count": 23,
   "id": "2fbd4314-fa6a-4726-9acd-af356635e5db",
   "metadata": {},
   "outputs": [],
   "source": [
    "Dup_List = [2,3,4,2,7,2,9,3,5,7]"
   ]
  },
  {
   "cell_type": "code",
   "execution_count": 14,
   "id": "98266630-8f3e-4203-a76f-a360e31c1496",
   "metadata": {},
   "outputs": [
    {
     "name": "stdout",
     "output_type": "stream",
     "text": [
      "[2, 3, 4, 2, 7, 2, 9, 3, 5, 7]\n",
      "[2, 3, 4, 7, 9, 5]\n"
     ]
    }
   ],
   "source": [
    "No_Dup = []\n",
    "for i in Dup_List:\n",
    "    if i not in No_Dup:\n",
    "        No_Dup.append(i)\n",
    "    \n",
    "print(Dup_List)\n",
    "print(No_Dup)"
   ]
  },
  {
   "cell_type": "code",
   "execution_count": 15,
   "id": "d466f3d2-1a8c-4377-a7b1-0971f78f0de8",
   "metadata": {},
   "outputs": [
    {
     "data": {
      "text/plain": [
       "{2: 3, 3: 2, 4: 1, 7: 2, 9: 1, 5: 1}"
      ]
     },
     "execution_count": 15,
     "metadata": {},
     "output_type": "execute_result"
    }
   ],
   "source": [
    "count = {}\n",
    "for i in Dup_List:\n",
    "    if i not in count:\n",
    "        count[i] = 1\n",
    "    else:\n",
    "        count[i] += 1\n",
    "count"
   ]
  },
  {
   "cell_type": "code",
   "execution_count": 16,
   "id": "752d4d3f-4927-4a39-898d-dda8ec508f56",
   "metadata": {},
   "outputs": [
    {
     "data": {
      "text/plain": [
       "[7, 5, 3, 9, 2, 7, 2, 4, 3, 2]"
      ]
     },
     "execution_count": 16,
     "metadata": {},
     "output_type": "execute_result"
    }
   ],
   "source": [
    "Dup_List.reverse()\n",
    "Dup_List"
   ]
  },
  {
   "cell_type": "code",
   "execution_count": 24,
   "id": "921c432b-e50b-4417-9854-8412d765e45f",
   "metadata": {},
   "outputs": [
    {
     "data": {
      "text/plain": [
       "[7, 5, 3, 9, 2, 7, 2, 4, 3, 2]"
      ]
     },
     "execution_count": 24,
     "metadata": {},
     "output_type": "execute_result"
    }
   ],
   "source": [
    "reverse = []\n",
    "for i in range(0,len(Dup_List)):\n",
    "    var = Dup_List.pop()\n",
    "    reverse.append(var)\n",
    "reverse"
   ]
  },
  {
   "cell_type": "code",
   "execution_count": 26,
   "id": "b9e76851-9bd6-4960-a84a-50823f033655",
   "metadata": {},
   "outputs": [
    {
     "data": {
      "text/plain": [
       "[2, 2, 2, 3, 3, 4, 5, 7, 7, 9]"
      ]
     },
     "execution_count": 26,
     "metadata": {},
     "output_type": "execute_result"
    }
   ],
   "source": [
    "reverse.sort()\n",
    "reverse"
   ]
  },
  {
   "cell_type": "code",
   "execution_count": 32,
   "id": "9033b280-174e-4f1f-9c66-77422781a3b3",
   "metadata": {},
   "outputs": [
    {
     "name": "stdout",
     "output_type": "stream",
     "text": [
      "List is not empty\n"
     ]
    }
   ],
   "source": [
    "My = [[1,2,3,4],[5,6,7],[8,9]]\n",
    "if len(My) == 0:\n",
    "    print(\"List is empty\")\n",
    "else:\n",
    "    print(\"List is not empty\")"
   ]
  },
  {
   "cell_type": "code",
   "execution_count": 34,
   "id": "ac017e45-6fec-470a-9529-1d731c0fb6a3",
   "metadata": {},
   "outputs": [
    {
     "name": "stdout",
     "output_type": "stream",
     "text": [
      "[[1, 2, 3, 4], [5, 6, 7], [8, 9]]\n"
     ]
    }
   ],
   "source": [
    "print(My)"
   ]
  },
  {
   "cell_type": "code",
   "execution_count": 36,
   "id": "5b8f0443-fea7-4dcb-9ada-2cfb7bbaf5e4",
   "metadata": {},
   "outputs": [
    {
     "ename": "TypeError",
     "evalue": "unsupported operand type(s) for +: 'int' and 'list'",
     "output_type": "error",
     "traceback": [
      "\u001b[1;31m---------------------------------------------------------------------------\u001b[0m",
      "\u001b[1;31mTypeError\u001b[0m                                 Traceback (most recent call last)",
      "Cell \u001b[1;32mIn[36], line 1\u001b[0m\n\u001b[1;32m----> 1\u001b[0m s \u001b[38;5;241m=\u001b[39m \u001b[38;5;28;43msum\u001b[39;49m\u001b[43m(\u001b[49m\u001b[43mMy\u001b[49m\u001b[43m)\u001b[49m\n\u001b[0;32m      2\u001b[0m s\n",
      "\u001b[1;31mTypeError\u001b[0m: unsupported operand type(s) for +: 'int' and 'list'"
     ]
    }
   ],
   "source": [
    "for i in My:\n",
    "    s \n",
    "s"
   ]
  },
  {
   "cell_type": "code",
   "execution_count": null,
   "id": "47ef877a-f997-459e-95aa-791a6320ec96",
   "metadata": {},
   "outputs": [],
   "source": []
  }
 ],
 "metadata": {
  "kernelspec": {
   "display_name": "Python 3 (ipykernel)",
   "language": "python",
   "name": "python3"
  },
  "language_info": {
   "codemirror_mode": {
    "name": "ipython",
    "version": 3
   },
   "file_extension": ".py",
   "mimetype": "text/x-python",
   "name": "python",
   "nbconvert_exporter": "python",
   "pygments_lexer": "ipython3",
   "version": "3.12.2"
  }
 },
 "nbformat": 4,
 "nbformat_minor": 5
}
