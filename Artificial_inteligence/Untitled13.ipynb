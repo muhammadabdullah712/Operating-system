{
 "cells": [
  {
   "cell_type": "code",
   "execution_count": null,
   "id": "26ab7c3c-8a30-4925-a1ad-fec9f5bc2a1d",
   "metadata": {},
   "outputs": [],
   "source": [
    "import requests\n",
    "from bs4 import BeautifulSoup\n",
    "import schedule\n",
    "import time\n",
    "\n",
    "def scrape_material_prices():\n",
    "    url = \"https://mapia.pk/material-rates\"\n",
    "    try:\n",
    "        response = requests.get(url)\n",
    "        response.raise_for_status()\n",
    "        soup = BeautifulSoup(response.content, 'html.parser')\n",
    "        \n",
    "        # Example: Extracting material prices from HTML\n",
    "        materials = soup.find_all(class_='material-price')\n",
    "        for material in materials:\n",
    "            name = material.find(class_='name').text\n",
    "            price = material.find(class_='price').text\n",
    "            update_database(name, price)\n",
    "    except requests.exceptions.RequestException as e:\n",
    "        print(f\"Error fetching data from {url}: {e}\")\n",
    "    except Exception as e:\n",
    "        print(f\"An error occurred: {e}\")\n",
    "\n",
    "def update_database(name, price):\n",
    "    # Your code to update the database\n",
    "    print(f\"Updating database: {name} - {price}\")\n",
    "\n",
    "# Schedule the scraping to run daily\n",
    "schedule.every().day.at(\"00:00\").do(scrape_material_prices)\n",
    "\n",
    "while True:\n",
    "    schedule.run_pending()\n",
    "    time.sleep(1)\n"
   ]
  },
  {
   "cell_type": "code",
   "execution_count": null,
   "id": "1a8147b6-29b3-4f51-9abf-704925774d2b",
   "metadata": {},
   "outputs": [],
   "source": [
    "python your_script_name.py\n"
   ]
  }
 ],
 "metadata": {
  "kernelspec": {
   "display_name": "Python 3 (ipykernel)",
   "language": "python",
   "name": "python3"
  },
  "language_info": {
   "codemirror_mode": {
    "name": "ipython",
    "version": 3
   },
   "file_extension": ".py",
   "mimetype": "text/x-python",
   "name": "python",
   "nbconvert_exporter": "python",
   "pygments_lexer": "ipython3",
   "version": "3.12.2"
  }
 },
 "nbformat": 4,
 "nbformat_minor": 5
}
