{
 "cells": [
  {
   "cell_type": "code",
   "execution_count": 3,
   "id": "55cfac69-fab3-4a6d-98e3-7911aec449b7",
   "metadata": {},
   "outputs": [
    {
     "name": "stdout",
     "output_type": "stream",
     "text": [
      "Minimum value found at x = -1 with value f(x) = 3\n"
     ]
    }
   ],
   "source": [
    "def f(x):\n",
    "    return x**2 + 3*x + 5\n",
    "\n",
    "def hill_climbing_minimize(f, start, step_size=1, max_iter=1000):\n",
    "    current_x = start\n",
    "    current_value = f(current_x)\n",
    "    \n",
    "    for _ in range(max_iter):\n",
    "        neighbors = [current_x - step_size, current_x + step_size]\n",
    "        next_x = min(neighbors, key=f)\n",
    "        next_value = f(next_x)\n",
    "        \n",
    "        if next_value >= current_value:\n",
    "            break\n",
    "        \n",
    "        current_x = next_x\n",
    "        current_value = next_value\n",
    "    \n",
    "    return current_x, current_value\n",
    "\n",
    "start_point = 0  # Initial guess\n",
    "min_x, min_value = hill_climbing_minimize(f, start_point)\n",
    "print(\"Minimum value found at x =\", min_x, \"with value f(x) =\", min_value)\n"
   ]
  },
  {
   "cell_type": "code",
   "execution_count": 4,
   "id": "095dd19d-682b-4ca4-a745-da2c696f0cd4",
   "metadata": {},
   "outputs": [
    {
     "name": "stdout",
     "output_type": "stream",
     "text": [
      "Simple Hill Climbing Path:  [(0, 0), (0, 1), (0, 2), (1, 2), (2, 2), (2, 3)]\n",
      "Steepest-Ascent Hill Climbing Path:  [(0, 0), (0, 1), (0, 2), (1, 2), (2, 2), (2, 3)]\n"
     ]
    }
   ],
   "source": [
    "maze = [\n",
    "    ['S', '0', '0', '1', '0'],\n",
    "    ['1', '1', '0', '1', '0'],\n",
    "    ['0', '0', '0', '0', '0'],\n",
    "    ['0', '1', '1', '1', '1'],\n",
    "    ['0', '0', '0', 'G', '0']\n",
    "]\n",
    "\n",
    "start = (0, 0)  \n",
    "goal = (4, 3)   \n",
    "\n",
    "def heuristic(cell, goal):\n",
    "    return abs(cell[0] - goal[0]) + abs(cell[1] - goal[1])\n",
    "\n",
    "# Get neighbors\n",
    "def get_neighbors(cell, maze):\n",
    "    neighbors = []\n",
    "    x, y = cell\n",
    "    if x > 0 and maze[x-1][y] != '1':  # Up\n",
    "        neighbors.append((x-1, y))\n",
    "    if x < len(maze) - 1 and maze[x+1][y] != '1':  # Down\n",
    "        neighbors.append((x+1, y))\n",
    "    if y > 0 and maze[x][y-1] != '1':  # Left\n",
    "        neighbors.append((x, y-1))\n",
    "    if y < len(maze[0]) - 1 and maze[x][y+1] != '1':  # Right\n",
    "        neighbors.append((x, y+1))\n",
    "    return neighbors\n",
    "\n",
    "def simple_hill_climbing(start, goal, maze):\n",
    "    current = start\n",
    "    path = [current]\n",
    "    \n",
    "    while current != goal:\n",
    "        neighbors = get_neighbors(current, maze)\n",
    "        next_move = current\n",
    "        for neighbor in neighbors:\n",
    "            if heuristic(neighbor, goal) < heuristic(current, goal):\n",
    "                next_move = neighbor\n",
    "                break\n",
    "        if next_move == current:\n",
    "            break\n",
    "        else:\n",
    "            current = next_move\n",
    "            path.append(current)\n",
    "    \n",
    "    return path\n",
    "\n",
    "def steepest_ascent_hill_climbing(start, goal, maze):\n",
    "    current = start\n",
    "    path = [current]\n",
    "    \n",
    "    while current != goal:\n",
    "        neighbors = get_neighbors(current, maze)\n",
    "        next_move = current\n",
    "        best_heuristic = heuristic(current, goal)\n",
    "        for neighbor in neighbors:\n",
    "            h = heuristic(neighbor, goal)\n",
    "            if h < best_heuristic:\n",
    "                best_heuristic = h\n",
    "                next_move = neighbor\n",
    "        if next_move == current:\n",
    "            break\n",
    "        else:\n",
    "            current = next_move\n",
    "            path.append(current)\n",
    "    \n",
    "    return path\n",
    "    \n",
    "# Test both algorithms\n",
    "print(\"Simple Hill Climbing Path: \", simple_hill_climbing(start, goal, maze))\n",
    "print(\"Steepest-Ascent Hill Climbing Path: \", steepest_ascent_hill_climbing(start, goal, maze))\n"
   ]
  }
 ],
 "metadata": {
  "kernelspec": {
   "display_name": "Python 3 (ipykernel)",
   "language": "python",
   "name": "python3"
  },
  "language_info": {
   "codemirror_mode": {
    "name": "ipython",
    "version": 3
   },
   "file_extension": ".py",
   "mimetype": "text/x-python",
   "name": "python",
   "nbconvert_exporter": "python",
   "pygments_lexer": "ipython3",
   "version": "3.11.7"
  }
 },
 "nbformat": 4,
 "nbformat_minor": 5
}
